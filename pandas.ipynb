{
 "cells": [
  {
   "cell_type": "markdown",
   "metadata": {},
   "source": [
    "# Using the Pandas Python Data Toolkit"
   ]
  },
  {
   "cell_type": "markdown",
   "metadata": {},
   "source": [
    "Today we will highlight some very useful and cool features of the Pandas library in Python while playing with some nematode worm behaviour data collected from the multi-worm-tracker (Swierczek et al., 2011).  "
   ]
  },
  {
   "cell_type": "markdown",
   "metadata": {},
   "source": [
    "Specifically, we will explore:\n",
    "    1. Loading data\n",
    "    2. Dataframe data structures\n",
    "    3. Element-wise mathematics\n",
    "    4. Working with time series data\n",
    "    5. Groupby operations\n",
    "    6. Quick and easy visualization"
   ]
  },
  {
   "cell_type": "markdown",
   "metadata": {},
   "source": [
    "## Some initial setup"
   ]
  },
  {
   "cell_type": "code",
   "execution_count": 6,
   "metadata": {
    "collapsed": false
   },
   "outputs": [
    {
     "name": "stdout",
     "output_type": "stream",
     "text": [
      "Installed autotime.py. To use it, type:\n",
      "  %load_ext autotime\n",
      "The autotime extension is already loaded. To reload it, use:\n",
      "  %reload_ext autotime\n",
      "time: 1.86 s\n"
     ]
    }
   ],
   "source": [
    "## load libraries\n",
    "%matplotlib inline\n",
    "import pandas as pd\n",
    "import numpy as np\n",
    "\n",
    "from pandas import set_option\n",
    "set_option(\"display.max_rows\", 4)\n",
    "\n",
    "## magic to time cells in ipython notebook\n",
    "%install_ext https://raw.github.com/cpcloud/ipython-autotime/master/autotime.py\n",
    "%load_ext autotime"
   ]
  },
  {
   "cell_type": "markdown",
   "metadata": {},
   "source": [
    "## 1. Loading data from a local text file"
   ]
  },
  {
   "cell_type": "markdown",
   "metadata": {},
   "source": [
    "More details, see http://pandas.pydata.org/pandas-docs/stable/io.html"
   ]
  },
  {
   "cell_type": "markdown",
   "metadata": {},
   "source": [
    "Let's first load some behaviour data from a collection of wild-type worms."
   ]
  },
  {
   "cell_type": "code",
   "execution_count": 36,
   "metadata": {
    "collapsed": false,
    "scrolled": false
   },
   "outputs": [
    {
     "data": {
      "text/html": [
       "<div>\n",
       "<table border=\"1\" class=\"dataframe\">\n",
       "  <thead>\n",
       "    <tr style=\"text-align: right;\">\n",
       "      <th></th>\n",
       "      <th>date</th>\n",
       "      <th>plate</th>\n",
       "      <th>time</th>\n",
       "      <th>strain</th>\n",
       "      <th>frame</th>\n",
       "      <th>ID</th>\n",
       "      <th>persistance</th>\n",
       "      <th>area</th>\n",
       "      <th>speed</th>\n",
       "      <th>angularspeed</th>\n",
       "      <th>...</th>\n",
       "      <th>bias</th>\n",
       "      <th>pathlen</th>\n",
       "      <th>curve</th>\n",
       "      <th>dir</th>\n",
       "      <th>loc_x</th>\n",
       "      <th>loc_y</th>\n",
       "      <th>vel_x</th>\n",
       "      <th>vel_y</th>\n",
       "      <th>orient</th>\n",
       "      <th>crab</th>\n",
       "    </tr>\n",
       "  </thead>\n",
       "  <tbody>\n",
       "    <tr>\n",
       "      <th>0</th>\n",
       "      <td>20141118</td>\n",
       "      <td>20141118_131037</td>\n",
       "      <td>15.028</td>\n",
       "      <td>wild-type</td>\n",
       "      <td>0</td>\n",
       "      <td>1</td>\n",
       "      <td>234.9</td>\n",
       "      <td>0.096228</td>\n",
       "      <td>NaN</td>\n",
       "      <td>NaN</td>\n",
       "      <td>...</td>\n",
       "      <td>1</td>\n",
       "      <td>0.000</td>\n",
       "      <td>38.2</td>\n",
       "      <td>0</td>\n",
       "      <td>29.0036</td>\n",
       "      <td>29.4805</td>\n",
       "      <td>NaN</td>\n",
       "      <td>NaN</td>\n",
       "      <td>103.3</td>\n",
       "      <td>NaN</td>\n",
       "    </tr>\n",
       "    <tr>\n",
       "      <th>1</th>\n",
       "      <td>20141118</td>\n",
       "      <td>20141118_131037</td>\n",
       "      <td>15.069</td>\n",
       "      <td>wild-type</td>\n",
       "      <td>1</td>\n",
       "      <td>1</td>\n",
       "      <td>234.9</td>\n",
       "      <td>0.096957</td>\n",
       "      <td>NaN</td>\n",
       "      <td>NaN</td>\n",
       "      <td>...</td>\n",
       "      <td>1</td>\n",
       "      <td>0.010</td>\n",
       "      <td>32.7</td>\n",
       "      <td>0</td>\n",
       "      <td>29.0076</td>\n",
       "      <td>29.4713</td>\n",
       "      <td>NaN</td>\n",
       "      <td>NaN</td>\n",
       "      <td>103.1</td>\n",
       "      <td>NaN</td>\n",
       "    </tr>\n",
       "    <tr>\n",
       "      <th>...</th>\n",
       "      <td>...</td>\n",
       "      <td>...</td>\n",
       "      <td>...</td>\n",
       "      <td>...</td>\n",
       "      <td>...</td>\n",
       "      <td>...</td>\n",
       "      <td>...</td>\n",
       "      <td>...</td>\n",
       "      <td>...</td>\n",
       "      <td>...</td>\n",
       "      <td>...</td>\n",
       "      <td>...</td>\n",
       "      <td>...</td>\n",
       "      <td>...</td>\n",
       "      <td>...</td>\n",
       "      <td>...</td>\n",
       "      <td>...</td>\n",
       "      <td>...</td>\n",
       "      <td>...</td>\n",
       "      <td>...</td>\n",
       "      <td>...</td>\n",
       "    </tr>\n",
       "    <tr>\n",
       "      <th>507152</th>\n",
       "      <td>20141118</td>\n",
       "      <td>20141118_133214</td>\n",
       "      <td>249.938</td>\n",
       "      <td>mutant_1</td>\n",
       "      <td>5840</td>\n",
       "      <td>87</td>\n",
       "      <td>24.3</td>\n",
       "      <td>0.106434</td>\n",
       "      <td>NaN</td>\n",
       "      <td>NaN</td>\n",
       "      <td>...</td>\n",
       "      <td>0</td>\n",
       "      <td>2.941</td>\n",
       "      <td>23.6</td>\n",
       "      <td>0</td>\n",
       "      <td>35.8461</td>\n",
       "      <td>22.6167</td>\n",
       "      <td>NaN</td>\n",
       "      <td>NaN</td>\n",
       "      <td>139.7</td>\n",
       "      <td>NaN</td>\n",
       "    </tr>\n",
       "    <tr>\n",
       "      <th>507153</th>\n",
       "      <td>20141118</td>\n",
       "      <td>20141118_133214</td>\n",
       "      <td>249.977</td>\n",
       "      <td>mutant_1</td>\n",
       "      <td>5841</td>\n",
       "      <td>87</td>\n",
       "      <td>24.3</td>\n",
       "      <td>0.107163</td>\n",
       "      <td>NaN</td>\n",
       "      <td>NaN</td>\n",
       "      <td>...</td>\n",
       "      <td>0</td>\n",
       "      <td>2.941</td>\n",
       "      <td>23.7</td>\n",
       "      <td>0</td>\n",
       "      <td>35.8462</td>\n",
       "      <td>22.6168</td>\n",
       "      <td>NaN</td>\n",
       "      <td>NaN</td>\n",
       "      <td>139.8</td>\n",
       "      <td>NaN</td>\n",
       "    </tr>\n",
       "  </tbody>\n",
       "</table>\n",
       "<p>507154 rows × 29 columns</p>\n",
       "</div>"
      ],
      "text/plain": [
       "            date            plate     time     strain  frame  ID  persistance  \\\n",
       "0       20141118  20141118_131037   15.028  wild-type      0   1        234.9   \n",
       "1       20141118  20141118_131037   15.069  wild-type      1   1        234.9   \n",
       "...          ...              ...      ...        ...    ...  ..          ...   \n",
       "507152  20141118  20141118_133214  249.938   mutant_1   5840  87         24.3   \n",
       "507153  20141118  20141118_133214  249.977   mutant_1   5841  87         24.3   \n",
       "\n",
       "            area  speed  angularspeed  ...   bias  pathlen  curve  dir  \\\n",
       "0       0.096228    NaN           NaN  ...      1    0.000   38.2    0   \n",
       "1       0.096957    NaN           NaN  ...      1    0.010   32.7    0   \n",
       "...          ...    ...           ...  ...    ...      ...    ...  ...   \n",
       "507152  0.106434    NaN           NaN  ...      0    2.941   23.6    0   \n",
       "507153  0.107163    NaN           NaN  ...      0    2.941   23.7    0   \n",
       "\n",
       "          loc_x    loc_y  vel_x  vel_y  orient  crab  \n",
       "0       29.0036  29.4805    NaN    NaN   103.3   NaN  \n",
       "1       29.0076  29.4713    NaN    NaN   103.1   NaN  \n",
       "...         ...      ...    ...    ...     ...   ...  \n",
       "507152  35.8461  22.6167    NaN    NaN   139.7   NaN  \n",
       "507153  35.8462  22.6168    NaN    NaN   139.8   NaN  \n",
       "\n",
       "[507154 rows x 29 columns]"
      ]
     },
     "execution_count": 36,
     "metadata": {},
     "output_type": "execute_result"
    },
    {
     "name": "stdout",
     "output_type": "stream",
     "text": [
      "time: 3.56 s\n"
     ]
    }
   ],
   "source": [
    "filename = 'data/behav_2.dat'\n",
    "behav = pd.read_table(filename, sep = '\\s+')\n",
    "behav"
   ]
  },
  {
   "cell_type": "markdown",
   "metadata": {},
   "source": [
    "## 2. Dataframe data structures"
   ]
  },
  {
   "cell_type": "markdown",
   "metadata": {},
   "source": [
    "For more details, see http://pandas.pydata.org/pandas-docs/stable/dsintro.html"
   ]
  },
  {
   "cell_type": "markdown",
   "metadata": {},
   "source": [
    "Pandas provides access to data frame data structures. These tabular data objects allow you to mix and match arrays of different data types in one \"table\"."
   ]
  },
  {
   "cell_type": "code",
   "execution_count": 37,
   "metadata": {
    "collapsed": false
   },
   "outputs": [
    {
     "name": "stdout",
     "output_type": "stream",
     "text": [
      "date        int64\n",
      "plate      object\n",
      "           ...   \n",
      "orient    float64\n",
      "crab      float64\n",
      "dtype: object\n",
      "time: 4.65 ms\n"
     ]
    }
   ],
   "source": [
    "print(behav.dtypes)"
   ]
  },
  {
   "cell_type": "markdown",
   "metadata": {},
   "source": [
    "## 3. Accessing data in a Pandas dataframe"
   ]
  },
  {
   "cell_type": "markdown",
   "metadata": {},
   "source": [
    "How to you access data in Pandas? There are at least two ways, the first uses column names and is very similar to how this is done in R, and the second uses the attribute `.iloc` which allows you to slice similar to lists and numpy.\n",
    "\n",
    "Here is how to access a column, for example the speed column:"
   ]
  },
  {
   "cell_type": "code",
   "execution_count": 38,
   "metadata": {
    "collapsed": false
   },
   "outputs": [
    {
     "data": {
      "text/plain": [
       "0         0.0897\n",
       "1         0.0872\n",
       "           ...  \n",
       "507152    0.1096\n",
       "507153    0.1106\n",
       "Name: morphwidth, dtype: float64"
      ]
     },
     "execution_count": 38,
     "metadata": {},
     "output_type": "execute_result"
    },
    {
     "name": "stdout",
     "output_type": "stream",
     "text": [
      "time: 46.1 ms\n"
     ]
    }
   ],
   "source": [
    "behav['morphwidth']"
   ]
  },
  {
   "cell_type": "markdown",
   "metadata": {},
   "source": [
    "When we access only a single column in pandas, it is no longer of type dataframe, but of type series:"
   ]
  },
  {
   "cell_type": "code",
   "execution_count": 39,
   "metadata": {
    "collapsed": false
   },
   "outputs": [
    {
     "data": {
      "text/plain": [
       "pandas.core.series.Series"
      ]
     },
     "execution_count": 39,
     "metadata": {},
     "output_type": "execute_result"
    },
    {
     "name": "stdout",
     "output_type": "stream",
     "text": [
      "time: 2.51 ms\n"
     ]
    }
   ],
   "source": [
    "type(behav['morphwidth'])"
   ]
  },
  {
   "cell_type": "markdown",
   "metadata": {},
   "source": [
    "To access multiple columns this way we would do the following:"
   ]
  },
  {
   "cell_type": "code",
   "execution_count": 40,
   "metadata": {
    "collapsed": false
   },
   "outputs": [
    {
     "data": {
      "text/html": [
       "<div>\n",
       "<table border=\"1\" class=\"dataframe\">\n",
       "  <thead>\n",
       "    <tr style=\"text-align: right;\">\n",
       "      <th></th>\n",
       "      <th>strain</th>\n",
       "      <th>morphwidth</th>\n",
       "    </tr>\n",
       "  </thead>\n",
       "  <tbody>\n",
       "    <tr>\n",
       "      <th>0</th>\n",
       "      <td>wild-type</td>\n",
       "      <td>0.0897</td>\n",
       "    </tr>\n",
       "    <tr>\n",
       "      <th>1</th>\n",
       "      <td>wild-type</td>\n",
       "      <td>0.0872</td>\n",
       "    </tr>\n",
       "    <tr>\n",
       "      <th>...</th>\n",
       "      <td>...</td>\n",
       "      <td>...</td>\n",
       "    </tr>\n",
       "    <tr>\n",
       "      <th>507152</th>\n",
       "      <td>mutant_1</td>\n",
       "      <td>0.1096</td>\n",
       "    </tr>\n",
       "    <tr>\n",
       "      <th>507153</th>\n",
       "      <td>mutant_1</td>\n",
       "      <td>0.1106</td>\n",
       "    </tr>\n",
       "  </tbody>\n",
       "</table>\n",
       "<p>507154 rows × 2 columns</p>\n",
       "</div>"
      ],
      "text/plain": [
       "           strain  morphwidth\n",
       "0       wild-type      0.0897\n",
       "1       wild-type      0.0872\n",
       "...           ...         ...\n",
       "507152   mutant_1      0.1096\n",
       "507153   mutant_1      0.1106\n",
       "\n",
       "[507154 rows x 2 columns]"
      ]
     },
     "execution_count": 40,
     "metadata": {},
     "output_type": "execute_result"
    },
    {
     "name": "stdout",
     "output_type": "stream",
     "text": [
      "time: 21.8 ms\n"
     ]
    }
   ],
   "source": [
    "behav[['strain', 'morphwidth']]"
   ]
  },
  {
   "cell_type": "markdown",
   "metadata": {},
   "source": [
    "You can use this notation to apply functions to certain columns, for example, how many unique values in strain are there?"
   ]
  },
  {
   "cell_type": "code",
   "execution_count": 41,
   "metadata": {
    "collapsed": false
   },
   "outputs": [
    {
     "data": {
      "text/plain": [
       "{'mutant_1', 'wild-type'}"
      ]
     },
     "execution_count": 41,
     "metadata": {},
     "output_type": "execute_result"
    },
    {
     "name": "stdout",
     "output_type": "stream",
     "text": [
      "time: 25.9 ms\n"
     ]
    }
   ],
   "source": [
    "set(behav['strain'])"
   ]
  },
  {
   "cell_type": "markdown",
   "metadata": {},
   "source": [
    "In certain situations you may want to index via column number, you can do this as follows:"
   ]
  },
  {
   "cell_type": "code",
   "execution_count": 43,
   "metadata": {
    "collapsed": false
   },
   "outputs": [
    {
     "data": {
      "text/plain": [
       "0         wild-type\n",
       "1         wild-type\n",
       "            ...    \n",
       "507152     mutant_1\n",
       "507153     mutant_1\n",
       "Name: strain, dtype: object"
      ]
     },
     "execution_count": 43,
     "metadata": {},
     "output_type": "execute_result"
    },
    {
     "name": "stdout",
     "output_type": "stream",
     "text": [
      "time: 5.82 ms\n"
     ]
    }
   ],
   "source": [
    "# access the 3rd column called strain\n",
    "behav.iloc[:,3]"
   ]
  },
  {
   "cell_type": "markdown",
   "metadata": {},
   "source": [
    "You can use this to access only a subset of the rows as well, for example the first 10 rows for columns 2 & 3: "
   ]
  },
  {
   "cell_type": "code",
   "execution_count": 45,
   "metadata": {
    "collapsed": false
   },
   "outputs": [
    {
     "data": {
      "text/html": [
       "<div>\n",
       "<table border=\"1\" class=\"dataframe\">\n",
       "  <thead>\n",
       "    <tr style=\"text-align: right;\">\n",
       "      <th></th>\n",
       "      <th>time</th>\n",
       "      <th>strain</th>\n",
       "    </tr>\n",
       "  </thead>\n",
       "  <tbody>\n",
       "    <tr>\n",
       "      <th>0</th>\n",
       "      <td>15.028</td>\n",
       "      <td>wild-type</td>\n",
       "    </tr>\n",
       "    <tr>\n",
       "      <th>1</th>\n",
       "      <td>15.069</td>\n",
       "      <td>wild-type</td>\n",
       "    </tr>\n",
       "    <tr>\n",
       "      <th>...</th>\n",
       "      <td>...</td>\n",
       "      <td>...</td>\n",
       "    </tr>\n",
       "    <tr>\n",
       "      <th>8</th>\n",
       "      <td>15.350</td>\n",
       "      <td>wild-type</td>\n",
       "    </tr>\n",
       "    <tr>\n",
       "      <th>9</th>\n",
       "      <td>15.387</td>\n",
       "      <td>wild-type</td>\n",
       "    </tr>\n",
       "  </tbody>\n",
       "</table>\n",
       "<p>10 rows × 2 columns</p>\n",
       "</div>"
      ],
      "text/plain": [
       "      time     strain\n",
       "0   15.028  wild-type\n",
       "1   15.069  wild-type\n",
       "..     ...        ...\n",
       "8   15.350  wild-type\n",
       "9   15.387  wild-type\n",
       "\n",
       "[10 rows x 2 columns]"
      ]
     },
     "execution_count": 45,
     "metadata": {},
     "output_type": "execute_result"
    },
    {
     "name": "stdout",
     "output_type": "stream",
     "text": [
      "time: 26.9 ms\n"
     ]
    }
   ],
   "source": [
    "behav.iloc[:10,2:4]"
   ]
  },
  {
   "cell_type": "markdown",
   "metadata": {},
   "source": [
    "## 4. Element-wise mathematics"
   ]
  },
  {
   "cell_type": "markdown",
   "metadata": {},
   "source": [
    "Suppose we want to add a new column that is a combination of two columns in our dataset. Similar to `numpy`, `Pandas` lets us do this easily and deals with doing math between columns on an element by element basis. For example, We are interested in the ratio of the midline length divided by the morphwidth to look at whether worms are crawling in a straight line or curling back on themselves (*e.g.,* during a turn)."
   ]
  },
  {
   "cell_type": "code",
   "execution_count": 20,
   "metadata": {
    "collapsed": false
   },
   "outputs": [
    {
     "data": {
      "text/html": [
       "<div>\n",
       "<table border=\"1\" class=\"dataframe\">\n",
       "  <thead>\n",
       "    <tr style=\"text-align: right;\">\n",
       "      <th></th>\n",
       "      <th>morphwidth</th>\n",
       "      <th>midline</th>\n",
       "      <th>mid_width_ratio</th>\n",
       "    </tr>\n",
       "  </thead>\n",
       "  <tbody>\n",
       "    <tr>\n",
       "      <th>0</th>\n",
       "      <td>1</td>\n",
       "      <td>12.1</td>\n",
       "      <td>0.082645</td>\n",
       "    </tr>\n",
       "    <tr>\n",
       "      <th>1</th>\n",
       "      <td>1</td>\n",
       "      <td>5.9</td>\n",
       "      <td>0.169492</td>\n",
       "    </tr>\n",
       "    <tr>\n",
       "      <th>...</th>\n",
       "      <td>...</td>\n",
       "      <td>...</td>\n",
       "      <td>...</td>\n",
       "    </tr>\n",
       "    <tr>\n",
       "      <th>3</th>\n",
       "      <td>1</td>\n",
       "      <td>14.9</td>\n",
       "      <td>0.067114</td>\n",
       "    </tr>\n",
       "    <tr>\n",
       "      <th>4</th>\n",
       "      <td>1</td>\n",
       "      <td>6.3</td>\n",
       "      <td>0.158730</td>\n",
       "    </tr>\n",
       "  </tbody>\n",
       "</table>\n",
       "<p>5 rows × 3 columns</p>\n",
       "</div>"
      ],
      "text/plain": [
       "    morphwidth  midline  mid_width_ratio\n",
       "0            1     12.1         0.082645\n",
       "1            1      5.9         0.169492\n",
       "..         ...      ...              ...\n",
       "3            1     14.9         0.067114\n",
       "4            1      6.3         0.158730\n",
       "\n",
       "[5 rows x 3 columns]"
      ]
     },
     "execution_count": 20,
     "metadata": {},
     "output_type": "execute_result"
    },
    {
     "name": "stdout",
     "output_type": "stream",
     "text": [
      "time: 59.8 ms\n"
     ]
    }
   ],
   "source": [
    "## vectorization takes 49.3 ms\n",
    "behav['mid_width_ratio'] = behav['morphwidth']/behav['midline']\n",
    "behav[['morphwidth', 'midline', 'mid_width_ratio']].head()"
   ]
  },
  {
   "cell_type": "code",
   "execution_count": null,
   "metadata": {
    "collapsed": false
   },
   "outputs": [],
   "source": [
    "## looping takes 1 min 44s\n",
    "mid_width_ratio = np.empty(len(behav['morphwidth']), dtype='float64')\n",
    "\n",
    "for i in range(1,len(behav['morphwidth'])):\n",
    "    mid_width_ratio[i] =+ behav.loc[i,'morphwidth']/behav.loc[i,'midline']\n",
    "    \n",
    "behav['mid_width_ratio'] = mid_width_ratio\n",
    "behav[['morphwidth', 'midline', 'mid_width_ratio']].head()"
   ]
  },
  {
   "cell_type": "markdown",
   "metadata": {},
   "source": [
    "### `apply()`\n",
    "For more details, see: http://pandas.pydata.org/pandas-docs/stable/generated/pandas.DataFrame.apply.html"
   ]
  },
  {
   "cell_type": "markdown",
   "metadata": {},
   "source": [
    "Another bonus about using Pandas is the `apply` function - this allows you to apply any function to a select column(s) or row(s) of a dataframe, or accross the entire dataframe."
   ]
  },
  {
   "cell_type": "code",
   "execution_count": 21,
   "metadata": {
    "collapsed": false
   },
   "outputs": [
    {
     "name": "stdout",
     "output_type": "stream",
     "text": [
      "time: 2.52 ms\n"
     ]
    }
   ],
   "source": [
    "## custom function to center data\n",
    "def center(data):\n",
    "    return data - data.mean()"
   ]
  },
  {
   "cell_type": "code",
   "execution_count": 22,
   "metadata": {
    "collapsed": false,
    "scrolled": true
   },
   "outputs": [
    {
     "data": {
      "text/html": [
       "<div>\n",
       "<table border=\"1\" class=\"dataframe\">\n",
       "  <thead>\n",
       "    <tr style=\"text-align: right;\">\n",
       "      <th></th>\n",
       "      <th>area</th>\n",
       "      <th>speed</th>\n",
       "      <th>angular_speed</th>\n",
       "      <th>aspect</th>\n",
       "      <th>midline</th>\n",
       "      <th>morphwidth</th>\n",
       "      <th>kink</th>\n",
       "      <th>bias</th>\n",
       "      <th>pathlength</th>\n",
       "      <th>mid_width_ratio</th>\n",
       "    </tr>\n",
       "  </thead>\n",
       "  <tbody>\n",
       "    <tr>\n",
       "      <th>0</th>\n",
       "      <td>-0.002280</td>\n",
       "      <td>0.249039</td>\n",
       "      <td>-6.313001</td>\n",
       "      <td>-0.219804</td>\n",
       "      <td>11.004384</td>\n",
       "      <td>0.904059</td>\n",
       "      <td>-43.962917</td>\n",
       "      <td>NaN</td>\n",
       "      <td>NaN</td>\n",
       "      <td>-0.029877</td>\n",
       "    </tr>\n",
       "    <tr>\n",
       "      <th>1</th>\n",
       "      <td>-0.002280</td>\n",
       "      <td>0.249039</td>\n",
       "      <td>-6.320601</td>\n",
       "      <td>-0.220104</td>\n",
       "      <td>4.804384</td>\n",
       "      <td>0.904059</td>\n",
       "      <td>-43.955917</td>\n",
       "      <td>NaN</td>\n",
       "      <td>NaN</td>\n",
       "      <td>0.056970</td>\n",
       "    </tr>\n",
       "    <tr>\n",
       "      <th>...</th>\n",
       "      <td>...</td>\n",
       "      <td>...</td>\n",
       "      <td>...</td>\n",
       "      <td>...</td>\n",
       "      <td>...</td>\n",
       "      <td>...</td>\n",
       "      <td>...</td>\n",
       "      <td>...</td>\n",
       "      <td>...</td>\n",
       "      <td>...</td>\n",
       "    </tr>\n",
       "    <tr>\n",
       "      <th>3</th>\n",
       "      <td>-0.000093</td>\n",
       "      <td>0.229039</td>\n",
       "      <td>-6.279701</td>\n",
       "      <td>-0.220304</td>\n",
       "      <td>13.804384</td>\n",
       "      <td>0.904059</td>\n",
       "      <td>-43.942917</td>\n",
       "      <td>NaN</td>\n",
       "      <td>NaN</td>\n",
       "      <td>-0.045408</td>\n",
       "    </tr>\n",
       "    <tr>\n",
       "      <th>4</th>\n",
       "      <td>0.000636</td>\n",
       "      <td>0.221039</td>\n",
       "      <td>-6.257501</td>\n",
       "      <td>-0.217504</td>\n",
       "      <td>5.204384</td>\n",
       "      <td>0.904059</td>\n",
       "      <td>-43.935917</td>\n",
       "      <td>NaN</td>\n",
       "      <td>NaN</td>\n",
       "      <td>0.046208</td>\n",
       "    </tr>\n",
       "  </tbody>\n",
       "</table>\n",
       "<p>5 rows × 10 columns</p>\n",
       "</div>"
      ],
      "text/plain": [
       "        area     speed  angular_speed    aspect    midline  morphwidth  \\\n",
       "0  -0.002280  0.249039      -6.313001 -0.219804  11.004384    0.904059   \n",
       "1  -0.002280  0.249039      -6.320601 -0.220104   4.804384    0.904059   \n",
       "..       ...       ...            ...       ...        ...         ...   \n",
       "3  -0.000093  0.229039      -6.279701 -0.220304  13.804384    0.904059   \n",
       "4   0.000636  0.221039      -6.257501 -0.217504   5.204384    0.904059   \n",
       "\n",
       "         kink  bias  pathlength  mid_width_ratio  \n",
       "0  -43.962917   NaN         NaN        -0.029877  \n",
       "1  -43.955917   NaN         NaN         0.056970  \n",
       "..        ...   ...         ...              ...  \n",
       "3  -43.942917   NaN         NaN        -0.045408  \n",
       "4  -43.935917   NaN         NaN         0.046208  \n",
       "\n",
       "[5 rows x 10 columns]"
      ]
     },
     "execution_count": 22,
     "metadata": {},
     "output_type": "execute_result"
    },
    {
     "name": "stdout",
     "output_type": "stream",
     "text": [
      "time: 58.4 ms\n"
     ]
    }
   ],
   "source": [
    "## center all data on a column basis\n",
    "behav.iloc[:,4:].apply(center).head()"
   ]
  },
  {
   "cell_type": "markdown",
   "metadata": {},
   "source": [
    "## 5. Working with time series data"
   ]
  },
  {
   "cell_type": "markdown",
   "metadata": {},
   "source": [
    "### Indices\n",
    "For more details, see http://pandas.pydata.org/pandas-docs/stable/indexing.html"
   ]
  },
  {
   "cell_type": "markdown",
   "metadata": {},
   "source": [
    "Given that this is time series data we will want to set the index to time, we can do this while we read in the data."
   ]
  },
  {
   "cell_type": "code",
   "execution_count": 57,
   "metadata": {
    "collapsed": false,
    "scrolled": true
   },
   "outputs": [
    {
     "data": {
      "text/html": [
       "<div>\n",
       "<table border=\"1\" class=\"dataframe\">\n",
       "  <thead>\n",
       "    <tr style=\"text-align: right;\">\n",
       "      <th></th>\n",
       "      <th>date</th>\n",
       "      <th>plate</th>\n",
       "      <th>strain</th>\n",
       "      <th>frame</th>\n",
       "      <th>ID</th>\n",
       "      <th>persistance</th>\n",
       "      <th>area</th>\n",
       "      <th>speed</th>\n",
       "      <th>angularspeed</th>\n",
       "      <th>length</th>\n",
       "      <th>...</th>\n",
       "      <th>bias</th>\n",
       "      <th>pathlen</th>\n",
       "      <th>curve</th>\n",
       "      <th>dir</th>\n",
       "      <th>loc_x</th>\n",
       "      <th>loc_y</th>\n",
       "      <th>vel_x</th>\n",
       "      <th>vel_y</th>\n",
       "      <th>orient</th>\n",
       "      <th>crab</th>\n",
       "    </tr>\n",
       "    <tr>\n",
       "      <th>time</th>\n",
       "      <th></th>\n",
       "      <th></th>\n",
       "      <th></th>\n",
       "      <th></th>\n",
       "      <th></th>\n",
       "      <th></th>\n",
       "      <th></th>\n",
       "      <th></th>\n",
       "      <th></th>\n",
       "      <th></th>\n",
       "      <th></th>\n",
       "      <th></th>\n",
       "      <th></th>\n",
       "      <th></th>\n",
       "      <th></th>\n",
       "      <th></th>\n",
       "      <th></th>\n",
       "      <th></th>\n",
       "      <th></th>\n",
       "      <th></th>\n",
       "      <th></th>\n",
       "    </tr>\n",
       "  </thead>\n",
       "  <tbody>\n",
       "    <tr>\n",
       "      <th>15.028</th>\n",
       "      <td>20141118</td>\n",
       "      <td>20141118_131037</td>\n",
       "      <td>wild-type</td>\n",
       "      <td>0</td>\n",
       "      <td>1</td>\n",
       "      <td>234.9</td>\n",
       "      <td>0.096228</td>\n",
       "      <td>NaN</td>\n",
       "      <td>NaN</td>\n",
       "      <td>0.7560</td>\n",
       "      <td>...</td>\n",
       "      <td>1</td>\n",
       "      <td>0.000</td>\n",
       "      <td>38.2</td>\n",
       "      <td>0</td>\n",
       "      <td>29.0036</td>\n",
       "      <td>29.4805</td>\n",
       "      <td>NaN</td>\n",
       "      <td>NaN</td>\n",
       "      <td>103.3</td>\n",
       "      <td>NaN</td>\n",
       "    </tr>\n",
       "    <tr>\n",
       "      <th>15.069</th>\n",
       "      <td>20141118</td>\n",
       "      <td>20141118_131037</td>\n",
       "      <td>wild-type</td>\n",
       "      <td>1</td>\n",
       "      <td>1</td>\n",
       "      <td>234.9</td>\n",
       "      <td>0.096957</td>\n",
       "      <td>NaN</td>\n",
       "      <td>NaN</td>\n",
       "      <td>0.7803</td>\n",
       "      <td>...</td>\n",
       "      <td>1</td>\n",
       "      <td>0.010</td>\n",
       "      <td>32.7</td>\n",
       "      <td>0</td>\n",
       "      <td>29.0076</td>\n",
       "      <td>29.4713</td>\n",
       "      <td>NaN</td>\n",
       "      <td>NaN</td>\n",
       "      <td>103.1</td>\n",
       "      <td>NaN</td>\n",
       "    </tr>\n",
       "    <tr>\n",
       "      <th>...</th>\n",
       "      <td>...</td>\n",
       "      <td>...</td>\n",
       "      <td>...</td>\n",
       "      <td>...</td>\n",
       "      <td>...</td>\n",
       "      <td>...</td>\n",
       "      <td>...</td>\n",
       "      <td>...</td>\n",
       "      <td>...</td>\n",
       "      <td>...</td>\n",
       "      <td>...</td>\n",
       "      <td>...</td>\n",
       "      <td>...</td>\n",
       "      <td>...</td>\n",
       "      <td>...</td>\n",
       "      <td>...</td>\n",
       "      <td>...</td>\n",
       "      <td>...</td>\n",
       "      <td>...</td>\n",
       "      <td>...</td>\n",
       "      <td>...</td>\n",
       "    </tr>\n",
       "    <tr>\n",
       "      <th>249.938</th>\n",
       "      <td>20141118</td>\n",
       "      <td>20141118_133214</td>\n",
       "      <td>mutant_1</td>\n",
       "      <td>5840</td>\n",
       "      <td>87</td>\n",
       "      <td>24.3</td>\n",
       "      <td>0.106434</td>\n",
       "      <td>NaN</td>\n",
       "      <td>NaN</td>\n",
       "      <td>0.9153</td>\n",
       "      <td>...</td>\n",
       "      <td>0</td>\n",
       "      <td>2.941</td>\n",
       "      <td>23.6</td>\n",
       "      <td>0</td>\n",
       "      <td>35.8461</td>\n",
       "      <td>22.6167</td>\n",
       "      <td>NaN</td>\n",
       "      <td>NaN</td>\n",
       "      <td>139.7</td>\n",
       "      <td>NaN</td>\n",
       "    </tr>\n",
       "    <tr>\n",
       "      <th>249.977</th>\n",
       "      <td>20141118</td>\n",
       "      <td>20141118_133214</td>\n",
       "      <td>mutant_1</td>\n",
       "      <td>5841</td>\n",
       "      <td>87</td>\n",
       "      <td>24.3</td>\n",
       "      <td>0.107163</td>\n",
       "      <td>NaN</td>\n",
       "      <td>NaN</td>\n",
       "      <td>0.9153</td>\n",
       "      <td>...</td>\n",
       "      <td>0</td>\n",
       "      <td>2.941</td>\n",
       "      <td>23.7</td>\n",
       "      <td>0</td>\n",
       "      <td>35.8462</td>\n",
       "      <td>22.6168</td>\n",
       "      <td>NaN</td>\n",
       "      <td>NaN</td>\n",
       "      <td>139.8</td>\n",
       "      <td>NaN</td>\n",
       "    </tr>\n",
       "  </tbody>\n",
       "</table>\n",
       "<p>507154 rows × 28 columns</p>\n",
       "</div>"
      ],
      "text/plain": [
       "             date            plate     strain  frame  ID  persistance  \\\n",
       "time                                                                    \n",
       "15.028   20141118  20141118_131037  wild-type      0   1        234.9   \n",
       "15.069   20141118  20141118_131037  wild-type      1   1        234.9   \n",
       "...           ...              ...        ...    ...  ..          ...   \n",
       "249.938  20141118  20141118_133214   mutant_1   5840  87         24.3   \n",
       "249.977  20141118  20141118_133214   mutant_1   5841  87         24.3   \n",
       "\n",
       "             area  speed  angularspeed  length  ...   bias  pathlen  curve  \\\n",
       "time                                            ...                          \n",
       "15.028   0.096228    NaN           NaN  0.7560  ...      1    0.000   38.2   \n",
       "15.069   0.096957    NaN           NaN  0.7803  ...      1    0.010   32.7   \n",
       "...           ...    ...           ...     ...  ...    ...      ...    ...   \n",
       "249.938  0.106434    NaN           NaN  0.9153  ...      0    2.941   23.6   \n",
       "249.977  0.107163    NaN           NaN  0.9153  ...      0    2.941   23.7   \n",
       "\n",
       "         dir    loc_x    loc_y  vel_x  vel_y  orient  crab  \n",
       "time                                                        \n",
       "15.028     0  29.0036  29.4805    NaN    NaN   103.3   NaN  \n",
       "15.069     0  29.0076  29.4713    NaN    NaN   103.1   NaN  \n",
       "...      ...      ...      ...    ...    ...     ...   ...  \n",
       "249.938    0  35.8461  22.6167    NaN    NaN   139.7   NaN  \n",
       "249.977    0  35.8462  22.6168    NaN    NaN   139.8   NaN  \n",
       "\n",
       "[507154 rows x 28 columns]"
      ]
     },
     "execution_count": 57,
     "metadata": {},
     "output_type": "execute_result"
    },
    {
     "name": "stdout",
     "output_type": "stream",
     "text": [
      "time: 3.78 s\n"
     ]
    }
   ],
   "source": [
    "behav = pd.read_table(filename, sep = '\\s+', index_col='time')\n",
    "behav"
   ]
  },
  {
   "cell_type": "markdown",
   "metadata": {},
   "source": [
    "To utilize functions built into Pandas to deal with time series data, let's convert our\n",
    "time to a date time object using the `to_datetime()` function."
   ]
  },
  {
   "cell_type": "code",
   "execution_count": 58,
   "metadata": {
    "collapsed": false
   },
   "outputs": [
    {
     "data": {
      "text/plain": [
       "dtype('float64')"
      ]
     },
     "execution_count": 58,
     "metadata": {},
     "output_type": "execute_result"
    },
    {
     "name": "stdout",
     "output_type": "stream",
     "text": [
      "time: 2.24 ms\n"
     ]
    }
   ],
   "source": [
    "behav.index.dtype"
   ]
  },
  {
   "cell_type": "code",
   "execution_count": 60,
   "metadata": {
    "collapsed": false,
    "scrolled": true
   },
   "outputs": [
    {
     "name": "stdout",
     "output_type": "stream",
     "text": [
      "datetime64[ns]\n",
      "time: 714 ms\n"
     ]
    }
   ],
   "source": [
    "behav.index = pd.to_datetime(behav.index, unit='s')\n",
    "print(behav.index.dtype)"
   ]
  },
  {
   "cell_type": "code",
   "execution_count": 61,
   "metadata": {
    "collapsed": false
   },
   "outputs": [
    {
     "data": {
      "text/html": [
       "<div>\n",
       "<table border=\"1\" class=\"dataframe\">\n",
       "  <thead>\n",
       "    <tr style=\"text-align: right;\">\n",
       "      <th></th>\n",
       "      <th>date</th>\n",
       "      <th>plate</th>\n",
       "      <th>strain</th>\n",
       "      <th>frame</th>\n",
       "      <th>ID</th>\n",
       "      <th>persistance</th>\n",
       "      <th>area</th>\n",
       "      <th>speed</th>\n",
       "      <th>angularspeed</th>\n",
       "      <th>length</th>\n",
       "      <th>...</th>\n",
       "      <th>bias</th>\n",
       "      <th>pathlen</th>\n",
       "      <th>curve</th>\n",
       "      <th>dir</th>\n",
       "      <th>loc_x</th>\n",
       "      <th>loc_y</th>\n",
       "      <th>vel_x</th>\n",
       "      <th>vel_y</th>\n",
       "      <th>orient</th>\n",
       "      <th>crab</th>\n",
       "    </tr>\n",
       "  </thead>\n",
       "  <tbody>\n",
       "    <tr>\n",
       "      <th>1970-01-01 00:00:15.028</th>\n",
       "      <td>20141118</td>\n",
       "      <td>20141118_131037</td>\n",
       "      <td>wild-type</td>\n",
       "      <td>0</td>\n",
       "      <td>1</td>\n",
       "      <td>234.9</td>\n",
       "      <td>0.096228</td>\n",
       "      <td>NaN</td>\n",
       "      <td>NaN</td>\n",
       "      <td>0.7560</td>\n",
       "      <td>...</td>\n",
       "      <td>1</td>\n",
       "      <td>0.000</td>\n",
       "      <td>38.2</td>\n",
       "      <td>0</td>\n",
       "      <td>29.0036</td>\n",
       "      <td>29.4805</td>\n",
       "      <td>NaN</td>\n",
       "      <td>NaN</td>\n",
       "      <td>103.3</td>\n",
       "      <td>NaN</td>\n",
       "    </tr>\n",
       "    <tr>\n",
       "      <th>1970-01-01 00:00:15.069</th>\n",
       "      <td>20141118</td>\n",
       "      <td>20141118_131037</td>\n",
       "      <td>wild-type</td>\n",
       "      <td>1</td>\n",
       "      <td>1</td>\n",
       "      <td>234.9</td>\n",
       "      <td>0.096957</td>\n",
       "      <td>NaN</td>\n",
       "      <td>NaN</td>\n",
       "      <td>0.7803</td>\n",
       "      <td>...</td>\n",
       "      <td>1</td>\n",
       "      <td>0.010</td>\n",
       "      <td>32.7</td>\n",
       "      <td>0</td>\n",
       "      <td>29.0076</td>\n",
       "      <td>29.4713</td>\n",
       "      <td>NaN</td>\n",
       "      <td>NaN</td>\n",
       "      <td>103.1</td>\n",
       "      <td>NaN</td>\n",
       "    </tr>\n",
       "    <tr>\n",
       "      <th>...</th>\n",
       "      <td>...</td>\n",
       "      <td>...</td>\n",
       "      <td>...</td>\n",
       "      <td>...</td>\n",
       "      <td>...</td>\n",
       "      <td>...</td>\n",
       "      <td>...</td>\n",
       "      <td>...</td>\n",
       "      <td>...</td>\n",
       "      <td>...</td>\n",
       "      <td>...</td>\n",
       "      <td>...</td>\n",
       "      <td>...</td>\n",
       "      <td>...</td>\n",
       "      <td>...</td>\n",
       "      <td>...</td>\n",
       "      <td>...</td>\n",
       "      <td>...</td>\n",
       "      <td>...</td>\n",
       "      <td>...</td>\n",
       "      <td>...</td>\n",
       "    </tr>\n",
       "    <tr>\n",
       "      <th>1970-01-01 00:04:09.938</th>\n",
       "      <td>20141118</td>\n",
       "      <td>20141118_133214</td>\n",
       "      <td>mutant_1</td>\n",
       "      <td>5840</td>\n",
       "      <td>87</td>\n",
       "      <td>24.3</td>\n",
       "      <td>0.106434</td>\n",
       "      <td>NaN</td>\n",
       "      <td>NaN</td>\n",
       "      <td>0.9153</td>\n",
       "      <td>...</td>\n",
       "      <td>0</td>\n",
       "      <td>2.941</td>\n",
       "      <td>23.6</td>\n",
       "      <td>0</td>\n",
       "      <td>35.8461</td>\n",
       "      <td>22.6167</td>\n",
       "      <td>NaN</td>\n",
       "      <td>NaN</td>\n",
       "      <td>139.7</td>\n",
       "      <td>NaN</td>\n",
       "    </tr>\n",
       "    <tr>\n",
       "      <th>1970-01-01 00:04:09.977</th>\n",
       "      <td>20141118</td>\n",
       "      <td>20141118_133214</td>\n",
       "      <td>mutant_1</td>\n",
       "      <td>5841</td>\n",
       "      <td>87</td>\n",
       "      <td>24.3</td>\n",
       "      <td>0.107163</td>\n",
       "      <td>NaN</td>\n",
       "      <td>NaN</td>\n",
       "      <td>0.9153</td>\n",
       "      <td>...</td>\n",
       "      <td>0</td>\n",
       "      <td>2.941</td>\n",
       "      <td>23.7</td>\n",
       "      <td>0</td>\n",
       "      <td>35.8462</td>\n",
       "      <td>22.6168</td>\n",
       "      <td>NaN</td>\n",
       "      <td>NaN</td>\n",
       "      <td>139.8</td>\n",
       "      <td>NaN</td>\n",
       "    </tr>\n",
       "  </tbody>\n",
       "</table>\n",
       "<p>507154 rows × 28 columns</p>\n",
       "</div>"
      ],
      "text/plain": [
       "                             date            plate     strain  frame  ID  \\\n",
       "1970-01-01 00:00:15.028  20141118  20141118_131037  wild-type      0   1   \n",
       "1970-01-01 00:00:15.069  20141118  20141118_131037  wild-type      1   1   \n",
       "...                           ...              ...        ...    ...  ..   \n",
       "1970-01-01 00:04:09.938  20141118  20141118_133214   mutant_1   5840  87   \n",
       "1970-01-01 00:04:09.977  20141118  20141118_133214   mutant_1   5841  87   \n",
       "\n",
       "                         persistance      area  speed  angularspeed  length  \\\n",
       "1970-01-01 00:00:15.028        234.9  0.096228    NaN           NaN  0.7560   \n",
       "1970-01-01 00:00:15.069        234.9  0.096957    NaN           NaN  0.7803   \n",
       "...                              ...       ...    ...           ...     ...   \n",
       "1970-01-01 00:04:09.938         24.3  0.106434    NaN           NaN  0.9153   \n",
       "1970-01-01 00:04:09.977         24.3  0.107163    NaN           NaN  0.9153   \n",
       "\n",
       "                         ...   bias  pathlen  curve  dir    loc_x    loc_y  \\\n",
       "1970-01-01 00:00:15.028  ...      1    0.000   38.2    0  29.0036  29.4805   \n",
       "1970-01-01 00:00:15.069  ...      1    0.010   32.7    0  29.0076  29.4713   \n",
       "...                      ...    ...      ...    ...  ...      ...      ...   \n",
       "1970-01-01 00:04:09.938  ...      0    2.941   23.6    0  35.8461  22.6167   \n",
       "1970-01-01 00:04:09.977  ...      0    2.941   23.7    0  35.8462  22.6168   \n",
       "\n",
       "                         vel_x  vel_y  orient  crab  \n",
       "1970-01-01 00:00:15.028    NaN    NaN   103.3   NaN  \n",
       "1970-01-01 00:00:15.069    NaN    NaN   103.1   NaN  \n",
       "...                        ...    ...     ...   ...  \n",
       "1970-01-01 00:04:09.938    NaN    NaN   139.7   NaN  \n",
       "1970-01-01 00:04:09.977    NaN    NaN   139.8   NaN  \n",
       "\n",
       "[507154 rows x 28 columns]"
      ]
     },
     "execution_count": 61,
     "metadata": {},
     "output_type": "execute_result"
    },
    {
     "name": "stdout",
     "output_type": "stream",
     "text": [
      "time: 250 ms\n"
     ]
    }
   ],
   "source": [
    "behav"
   ]
  },
  {
   "cell_type": "markdown",
   "metadata": {},
   "source": [
    "Now that our index is of datetime object, we can use the resample function to get time intervals. With this function you can choose the time interval as well as how to downsample (mean, sum, *etc.*)"
   ]
  },
  {
   "cell_type": "code",
   "execution_count": 62,
   "metadata": {
    "collapsed": false,
    "scrolled": false
   },
   "outputs": [
    {
     "data": {
      "text/html": [
       "<div>\n",
       "<table border=\"1\" class=\"dataframe\">\n",
       "  <thead>\n",
       "    <tr style=\"text-align: right;\">\n",
       "      <th></th>\n",
       "      <th>date</th>\n",
       "      <th>frame</th>\n",
       "      <th>ID</th>\n",
       "      <th>persistance</th>\n",
       "      <th>area</th>\n",
       "      <th>speed</th>\n",
       "      <th>angularspeed</th>\n",
       "      <th>length</th>\n",
       "      <th>rellength</th>\n",
       "      <th>width</th>\n",
       "      <th>...</th>\n",
       "      <th>bias</th>\n",
       "      <th>pathlen</th>\n",
       "      <th>curve</th>\n",
       "      <th>dir</th>\n",
       "      <th>loc_x</th>\n",
       "      <th>loc_y</th>\n",
       "      <th>vel_x</th>\n",
       "      <th>vel_y</th>\n",
       "      <th>orient</th>\n",
       "      <th>crab</th>\n",
       "    </tr>\n",
       "  </thead>\n",
       "  <tbody>\n",
       "    <tr>\n",
       "      <th>1970-01-01 00:00:10</th>\n",
       "      <td>20141118</td>\n",
       "      <td>62.711085</td>\n",
       "      <td>13.864025</td>\n",
       "      <td>155.839342</td>\n",
       "      <td>0.089762</td>\n",
       "      <td>0.164503</td>\n",
       "      <td>8.433122</td>\n",
       "      <td>0.780019</td>\n",
       "      <td>1.014002</td>\n",
       "      <td>0.197847</td>\n",
       "      <td>...</td>\n",
       "      <td>0.952569</td>\n",
       "      <td>0.389527</td>\n",
       "      <td>28.552254</td>\n",
       "      <td>0.000624</td>\n",
       "      <td>23.978876</td>\n",
       "      <td>23.584906</td>\n",
       "      <td>0.012174</td>\n",
       "      <td>-0.024756</td>\n",
       "      <td>47.414245</td>\n",
       "      <td>0.013190</td>\n",
       "    </tr>\n",
       "    <tr>\n",
       "      <th>1970-01-01 00:00:20</th>\n",
       "      <td>20141118</td>\n",
       "      <td>249.180675</td>\n",
       "      <td>15.628123</td>\n",
       "      <td>153.852831</td>\n",
       "      <td>0.090508</td>\n",
       "      <td>0.155679</td>\n",
       "      <td>7.205397</td>\n",
       "      <td>0.792260</td>\n",
       "      <td>1.026839</td>\n",
       "      <td>0.192063</td>\n",
       "      <td>...</td>\n",
       "      <td>0.876174</td>\n",
       "      <td>1.423877</td>\n",
       "      <td>28.563552</td>\n",
       "      <td>0.002201</td>\n",
       "      <td>24.041254</td>\n",
       "      <td>23.072667</td>\n",
       "      <td>0.022262</td>\n",
       "      <td>-0.006205</td>\n",
       "      <td>41.538622</td>\n",
       "      <td>0.011724</td>\n",
       "    </tr>\n",
       "    <tr>\n",
       "      <th>...</th>\n",
       "      <td>...</td>\n",
       "      <td>...</td>\n",
       "      <td>...</td>\n",
       "      <td>...</td>\n",
       "      <td>...</td>\n",
       "      <td>...</td>\n",
       "      <td>...</td>\n",
       "      <td>...</td>\n",
       "      <td>...</td>\n",
       "      <td>...</td>\n",
       "      <td>...</td>\n",
       "      <td>...</td>\n",
       "      <td>...</td>\n",
       "      <td>...</td>\n",
       "      <td>...</td>\n",
       "      <td>...</td>\n",
       "      <td>...</td>\n",
       "      <td>...</td>\n",
       "      <td>...</td>\n",
       "      <td>...</td>\n",
       "      <td>...</td>\n",
       "    </tr>\n",
       "    <tr>\n",
       "      <th>1970-01-01 00:03:50</th>\n",
       "      <td>20141118</td>\n",
       "      <td>5458.693863</td>\n",
       "      <td>177.873863</td>\n",
       "      <td>150.224391</td>\n",
       "      <td>0.094090</td>\n",
       "      <td>0.109268</td>\n",
       "      <td>4.521180</td>\n",
       "      <td>0.819377</td>\n",
       "      <td>1.047367</td>\n",
       "      <td>0.176305</td>\n",
       "      <td>...</td>\n",
       "      <td>0.908607</td>\n",
       "      <td>7.674139</td>\n",
       "      <td>24.975206</td>\n",
       "      <td>0.001973</td>\n",
       "      <td>24.506425</td>\n",
       "      <td>24.095993</td>\n",
       "      <td>0.002343</td>\n",
       "      <td>0.013047</td>\n",
       "      <td>12.485120</td>\n",
       "      <td>0.006728</td>\n",
       "    </tr>\n",
       "    <tr>\n",
       "      <th>1970-01-01 00:04:00</th>\n",
       "      <td>20141118</td>\n",
       "      <td>5704.926108</td>\n",
       "      <td>175.989060</td>\n",
       "      <td>151.687085</td>\n",
       "      <td>0.093545</td>\n",
       "      <td>0.102982</td>\n",
       "      <td>4.329094</td>\n",
       "      <td>0.814193</td>\n",
       "      <td>1.038616</td>\n",
       "      <td>0.175390</td>\n",
       "      <td>...</td>\n",
       "      <td>0.829332</td>\n",
       "      <td>8.742751</td>\n",
       "      <td>24.785606</td>\n",
       "      <td>0.002309</td>\n",
       "      <td>24.863789</td>\n",
       "      <td>24.863597</td>\n",
       "      <td>0.004902</td>\n",
       "      <td>0.012062</td>\n",
       "      <td>3.551655</td>\n",
       "      <td>0.006358</td>\n",
       "    </tr>\n",
       "  </tbody>\n",
       "</table>\n",
       "<p>24 rows × 26 columns</p>\n",
       "</div>"
      ],
      "text/plain": [
       "                         date        frame          ID  persistance      area  \\\n",
       "1970-01-01 00:00:10  20141118    62.711085   13.864025   155.839342  0.089762   \n",
       "1970-01-01 00:00:20  20141118   249.180675   15.628123   153.852831  0.090508   \n",
       "...                       ...          ...         ...          ...       ...   \n",
       "1970-01-01 00:03:50  20141118  5458.693863  177.873863   150.224391  0.094090   \n",
       "1970-01-01 00:04:00  20141118  5704.926108  175.989060   151.687085  0.093545   \n",
       "\n",
       "                        speed  angularspeed    length  rellength     width  \\\n",
       "1970-01-01 00:00:10  0.164503      8.433122  0.780019   1.014002  0.197847   \n",
       "1970-01-01 00:00:20  0.155679      7.205397  0.792260   1.026839  0.192063   \n",
       "...                       ...           ...       ...        ...       ...   \n",
       "1970-01-01 00:03:50  0.109268      4.521180  0.819377   1.047367  0.176305   \n",
       "1970-01-01 00:04:00  0.102982      4.329094  0.814193   1.038616  0.175390   \n",
       "\n",
       "                       ...         bias   pathlen      curve       dir  \\\n",
       "1970-01-01 00:00:10    ...     0.952569  0.389527  28.552254  0.000624   \n",
       "1970-01-01 00:00:20    ...     0.876174  1.423877  28.563552  0.002201   \n",
       "...                    ...          ...       ...        ...       ...   \n",
       "1970-01-01 00:03:50    ...     0.908607  7.674139  24.975206  0.001973   \n",
       "1970-01-01 00:04:00    ...     0.829332  8.742751  24.785606  0.002309   \n",
       "\n",
       "                         loc_x      loc_y     vel_x     vel_y     orient  \\\n",
       "1970-01-01 00:00:10  23.978876  23.584906  0.012174 -0.024756  47.414245   \n",
       "1970-01-01 00:00:20  24.041254  23.072667  0.022262 -0.006205  41.538622   \n",
       "...                        ...        ...       ...       ...        ...   \n",
       "1970-01-01 00:03:50  24.506425  24.095993  0.002343  0.013047  12.485120   \n",
       "1970-01-01 00:04:00  24.863789  24.863597  0.004902  0.012062   3.551655   \n",
       "\n",
       "                         crab  \n",
       "1970-01-01 00:00:10  0.013190  \n",
       "1970-01-01 00:00:20  0.011724  \n",
       "...                       ...  \n",
       "1970-01-01 00:03:50  0.006728  \n",
       "1970-01-01 00:04:00  0.006358  \n",
       "\n",
       "[24 rows x 26 columns]"
      ]
     },
     "execution_count": 62,
     "metadata": {},
     "output_type": "execute_result"
    },
    {
     "name": "stdout",
     "output_type": "stream",
     "text": [
      "time: 476 ms\n"
     ]
    }
   ],
   "source": [
    "behav_resampled = behav.resample('10s', how=('mean'))\n",
    "behav_resampled"
   ]
  },
  {
   "cell_type": "markdown",
   "metadata": {},
   "source": [
    "This has reduced our dataset to a more manageable size, **but** we have lost the column `strain` because resample just combined all rows for every 10s. This is not exactly what we want to do because we want to compare these groups... We need to use another pandas function, `groupby` to allow us to keep this information."
   ]
  },
  {
   "cell_type": "markdown",
   "metadata": {},
   "source": [
    "## 6. Groupby operations\n",
    "\n",
    "In this dataset we have 2 different worm strains, or groups. When it comes to analysis and/or plotting we likely want to act on these groups each independently. We can use the pandas `groupby()` function to help us do this:"
   ]
  },
  {
   "cell_type": "code",
   "execution_count": 63,
   "metadata": {
    "collapsed": false
   },
   "outputs": [
    {
     "data": {
      "text/plain": [
       "pandas.core.groupby.DataFrameGroupBy"
      ]
     },
     "execution_count": 63,
     "metadata": {},
     "output_type": "execute_result"
    },
    {
     "name": "stdout",
     "output_type": "stream",
     "text": [
      "time: 2.95 ms\n"
     ]
    }
   ],
   "source": [
    "# make a groupby object which groups by strains\n",
    "grouped_behav = behav.groupby('strain')\n",
    "type(grouped_behav)"
   ]
  },
  {
   "cell_type": "code",
   "execution_count": 64,
   "metadata": {
    "collapsed": false
   },
   "outputs": [
    {
     "name": "stdout",
     "output_type": "stream",
     "text": [
      "<pandas.core.groupby.DataFrameGroupBy object at 0x11541d7f0>\n",
      "time: 1.53 ms\n"
     ]
    }
   ],
   "source": [
    "print(grouped_behav)"
   ]
  },
  {
   "cell_type": "markdown",
   "metadata": {},
   "source": [
    "You can see that the groupby object we created isn't very useful on its own, but we can use it when we are acting on the dataframe to make sure the functions/methods we apply act on the groups, not the whole dataframe.\n",
    "\n",
    "For example, if we now want to resample each group separately so we do not lose the strain information we can do the following:"
   ]
  },
  {
   "cell_type": "code",
   "execution_count": 66,
   "metadata": {
    "collapsed": false
   },
   "outputs": [
    {
     "data": {
      "text/html": [
       "<div>\n",
       "<table border=\"1\" class=\"dataframe\">\n",
       "  <thead>\n",
       "    <tr style=\"text-align: right;\">\n",
       "      <th></th>\n",
       "      <th></th>\n",
       "      <th>ID</th>\n",
       "      <th>angularspeed</th>\n",
       "      <th>area</th>\n",
       "      <th>aspect</th>\n",
       "      <th>bias</th>\n",
       "      <th>crab</th>\n",
       "      <th>curve</th>\n",
       "      <th>date</th>\n",
       "      <th>dir</th>\n",
       "      <th>frame</th>\n",
       "      <th>...</th>\n",
       "      <th>orient</th>\n",
       "      <th>pathlen</th>\n",
       "      <th>persistance</th>\n",
       "      <th>relaspect</th>\n",
       "      <th>rellength</th>\n",
       "      <th>relwidth</th>\n",
       "      <th>speed</th>\n",
       "      <th>vel_x</th>\n",
       "      <th>vel_y</th>\n",
       "      <th>width</th>\n",
       "    </tr>\n",
       "    <tr>\n",
       "      <th>strain</th>\n",
       "      <th></th>\n",
       "      <th></th>\n",
       "      <th></th>\n",
       "      <th></th>\n",
       "      <th></th>\n",
       "      <th></th>\n",
       "      <th></th>\n",
       "      <th></th>\n",
       "      <th></th>\n",
       "      <th></th>\n",
       "      <th></th>\n",
       "      <th></th>\n",
       "      <th></th>\n",
       "      <th></th>\n",
       "      <th></th>\n",
       "      <th></th>\n",
       "      <th></th>\n",
       "      <th></th>\n",
       "      <th></th>\n",
       "      <th></th>\n",
       "      <th></th>\n",
       "      <th></th>\n",
       "    </tr>\n",
       "  </thead>\n",
       "  <tbody>\n",
       "    <tr>\n",
       "      <th rowspan=\"2\" valign=\"top\">mutant_1</th>\n",
       "      <th>1970-01-01 00:00:10</th>\n",
       "      <td>14.166029</td>\n",
       "      <td>5.341250</td>\n",
       "      <td>0.084776</td>\n",
       "      <td>0.213143</td>\n",
       "      <td>0.944940</td>\n",
       "      <td>0.010161</td>\n",
       "      <td>25.515777</td>\n",
       "      <td>20141118</td>\n",
       "      <td>0.000083</td>\n",
       "      <td>62.651573</td>\n",
       "      <td>...</td>\n",
       "      <td>57.650553</td>\n",
       "      <td>0.386367</td>\n",
       "      <td>162.409864</td>\n",
       "      <td>0.893754</td>\n",
       "      <td>1.029213</td>\n",
       "      <td>0.961974</td>\n",
       "      <td>0.163496</td>\n",
       "      <td>-0.008042</td>\n",
       "      <td>-0.023233</td>\n",
       "      <td>0.167119</td>\n",
       "    </tr>\n",
       "    <tr>\n",
       "      <th>1970-01-01 00:00:20</th>\n",
       "      <td>15.551754</td>\n",
       "      <td>5.557723</td>\n",
       "      <td>0.085505</td>\n",
       "      <td>0.218023</td>\n",
       "      <td>0.887064</td>\n",
       "      <td>0.010114</td>\n",
       "      <td>26.195024</td>\n",
       "      <td>20141118</td>\n",
       "      <td>0.002584</td>\n",
       "      <td>248.706677</td>\n",
       "      <td>...</td>\n",
       "      <td>50.283069</td>\n",
       "      <td>1.433472</td>\n",
       "      <td>163.010681</td>\n",
       "      <td>0.907928</td>\n",
       "      <td>1.021623</td>\n",
       "      <td>0.970967</td>\n",
       "      <td>0.155818</td>\n",
       "      <td>0.002565</td>\n",
       "      <td>-0.014216</td>\n",
       "      <td>0.169132</td>\n",
       "    </tr>\n",
       "    <tr>\n",
       "      <th>...</th>\n",
       "      <th>...</th>\n",
       "      <td>...</td>\n",
       "      <td>...</td>\n",
       "      <td>...</td>\n",
       "      <td>...</td>\n",
       "      <td>...</td>\n",
       "      <td>...</td>\n",
       "      <td>...</td>\n",
       "      <td>...</td>\n",
       "      <td>...</td>\n",
       "      <td>...</td>\n",
       "      <td>...</td>\n",
       "      <td>...</td>\n",
       "      <td>...</td>\n",
       "      <td>...</td>\n",
       "      <td>...</td>\n",
       "      <td>...</td>\n",
       "      <td>...</td>\n",
       "      <td>...</td>\n",
       "      <td>...</td>\n",
       "      <td>...</td>\n",
       "      <td>...</td>\n",
       "    </tr>\n",
       "    <tr>\n",
       "      <th rowspan=\"2\" valign=\"top\">wild-type</th>\n",
       "      <th>1970-01-01 00:03:50</th>\n",
       "      <td>288.899770</td>\n",
       "      <td>5.980102</td>\n",
       "      <td>0.098288</td>\n",
       "      <td>0.248843</td>\n",
       "      <td>0.937489</td>\n",
       "      <td>0.008730</td>\n",
       "      <td>27.963539</td>\n",
       "      <td>20141118</td>\n",
       "      <td>0.001735</td>\n",
       "      <td>5453.795268</td>\n",
       "      <td>...</td>\n",
       "      <td>8.020835</td>\n",
       "      <td>7.559928</td>\n",
       "      <td>117.936149</td>\n",
       "      <td>0.942490</td>\n",
       "      <td>1.035555</td>\n",
       "      <td>0.994018</td>\n",
       "      <td>0.125332</td>\n",
       "      <td>0.013883</td>\n",
       "      <td>0.025775</td>\n",
       "      <td>0.200221</td>\n",
       "    </tr>\n",
       "    <tr>\n",
       "      <th>1970-01-01 00:04:00</th>\n",
       "      <td>287.499373</td>\n",
       "      <td>5.582613</td>\n",
       "      <td>0.098004</td>\n",
       "      <td>0.246534</td>\n",
       "      <td>0.875750</td>\n",
       "      <td>0.008100</td>\n",
       "      <td>27.132316</td>\n",
       "      <td>20141118</td>\n",
       "      <td>0.001426</td>\n",
       "      <td>5699.430874</td>\n",
       "      <td>...</td>\n",
       "      <td>-5.885441</td>\n",
       "      <td>9.190967</td>\n",
       "      <td>119.019323</td>\n",
       "      <td>0.942170</td>\n",
       "      <td>1.026389</td>\n",
       "      <td>0.982084</td>\n",
       "      <td>0.120613</td>\n",
       "      <td>0.014010</td>\n",
       "      <td>0.022929</td>\n",
       "      <td>0.197696</td>\n",
       "    </tr>\n",
       "  </tbody>\n",
       "</table>\n",
       "<p>48 rows × 26 columns</p>\n",
       "</div>"
      ],
      "text/plain": [
       "                                       ID  angularspeed      area    aspect  \\\n",
       "strain                                                                        \n",
       "mutant_1  1970-01-01 00:00:10   14.166029      5.341250  0.084776  0.213143   \n",
       "          1970-01-01 00:00:20   15.551754      5.557723  0.085505  0.218023   \n",
       "...                                   ...           ...       ...       ...   \n",
       "wild-type 1970-01-01 00:03:50  288.899770      5.980102  0.098288  0.248843   \n",
       "          1970-01-01 00:04:00  287.499373      5.582613  0.098004  0.246534   \n",
       "\n",
       "                                   bias      crab      curve      date  \\\n",
       "strain                                                                   \n",
       "mutant_1  1970-01-01 00:00:10  0.944940  0.010161  25.515777  20141118   \n",
       "          1970-01-01 00:00:20  0.887064  0.010114  26.195024  20141118   \n",
       "...                                 ...       ...        ...       ...   \n",
       "wild-type 1970-01-01 00:03:50  0.937489  0.008730  27.963539  20141118   \n",
       "          1970-01-01 00:04:00  0.875750  0.008100  27.132316  20141118   \n",
       "\n",
       "                                    dir        frame    ...        orient  \\\n",
       "strain                                                  ...                 \n",
       "mutant_1  1970-01-01 00:00:10  0.000083    62.651573    ...     57.650553   \n",
       "          1970-01-01 00:00:20  0.002584   248.706677    ...     50.283069   \n",
       "...                                 ...          ...    ...           ...   \n",
       "wild-type 1970-01-01 00:03:50  0.001735  5453.795268    ...      8.020835   \n",
       "          1970-01-01 00:04:00  0.001426  5699.430874    ...     -5.885441   \n",
       "\n",
       "                                pathlen  persistance  relaspect  rellength  \\\n",
       "strain                                                                       \n",
       "mutant_1  1970-01-01 00:00:10  0.386367   162.409864   0.893754   1.029213   \n",
       "          1970-01-01 00:00:20  1.433472   163.010681   0.907928   1.021623   \n",
       "...                                 ...          ...        ...        ...   \n",
       "wild-type 1970-01-01 00:03:50  7.559928   117.936149   0.942490   1.035555   \n",
       "          1970-01-01 00:04:00  9.190967   119.019323   0.942170   1.026389   \n",
       "\n",
       "                               relwidth     speed     vel_x     vel_y  \\\n",
       "strain                                                                  \n",
       "mutant_1  1970-01-01 00:00:10  0.961974  0.163496 -0.008042 -0.023233   \n",
       "          1970-01-01 00:00:20  0.970967  0.155818  0.002565 -0.014216   \n",
       "...                                 ...       ...       ...       ...   \n",
       "wild-type 1970-01-01 00:03:50  0.994018  0.125332  0.013883  0.025775   \n",
       "          1970-01-01 00:04:00  0.982084  0.120613  0.014010  0.022929   \n",
       "\n",
       "                                  width  \n",
       "strain                                   \n",
       "mutant_1  1970-01-01 00:00:10  0.167119  \n",
       "          1970-01-01 00:00:20  0.169132  \n",
       "...                                 ...  \n",
       "wild-type 1970-01-01 00:03:50  0.200221  \n",
       "          1970-01-01 00:04:00  0.197696  \n",
       "\n",
       "[48 rows x 26 columns]"
      ]
     },
     "execution_count": 66,
     "metadata": {},
     "output_type": "execute_result"
    },
    {
     "name": "stdout",
     "output_type": "stream",
     "text": [
      "time: 643 ms\n"
     ]
    }
   ],
   "source": [
    "resampled_groups = behav.groupby('strain').resample('10s', how=('mean'))\n",
    "resampled_groups"
   ]
  },
  {
   "cell_type": "markdown",
   "metadata": {},
   "source": [
    "## 7. Quick and easy visualization\n",
    "For more details, see: http://pandas.pydata.org/pandas-docs/version/0.15.0/visualization.html\n",
    "\n",
    "To plot any of our columns with numerical measurements against time, we can use pandas built-in plot function:"
   ]
  },
  {
   "cell_type": "code",
   "execution_count": 72,
   "metadata": {
    "collapsed": false
   },
   "outputs": [
    {
     "data": {
      "text/plain": [
       "<matplotlib.axes._subplots.AxesSubplot at 0x10dcb7d68>"
      ]
     },
     "execution_count": 72,
     "metadata": {},
     "output_type": "execute_result"
    },
    {
     "data": {
      "image/png": "[encoded data removed]",
      "text/plain": [
       "<matplotlib.figure.Figure at 0x10dc382e8>"
      ]
     },
     "metadata": {},
     "output_type": "display_data"
    },
    {
     "name": "stdout",
     "output_type": "stream",
     "text": [
      "time: 194 ms\n"
     ]
    }
   ],
   "source": [
    "behav_resampled['angularspeed'].plot()"
   ]
  },
  {
   "cell_type": "markdown",
   "metadata": {},
   "source": [
    "You can plot all of the columns:"
   ]
  },
  {
   "cell_type": "code",
   "execution_count": 73,
   "metadata": {
    "collapsed": false
   },
   "outputs": [
    {
     "data": {
      "text/plain": [
       "array([<matplotlib.axes._subplots.AxesSubplot object at 0x114db0ac8>,\n",
       "       <matplotlib.axes._subplots.AxesSubplot object at 0x114e58828>,\n",
       "       <matplotlib.axes._subplots.AxesSubplot object at 0x114f3c4e0>,\n",
       "       <matplotlib.axes._subplots.AxesSubplot object at 0x114f7aa58>,\n",
       "       <matplotlib.axes._subplots.AxesSubplot object at 0x114fc6470>,\n",
       "       <matplotlib.axes._subplots.AxesSubplot object at 0x114ffe978>,\n",
       "       <matplotlib.axes._subplots.AxesSubplot object at 0x115046b38>,\n",
       "       <matplotlib.axes._subplots.AxesSubplot object at 0x115ffeba8>,\n",
       "       <matplotlib.axes._subplots.AxesSubplot object at 0x11603ebe0>,\n",
       "       <matplotlib.axes._subplots.AxesSubplot object at 0x116087c88>,\n",
       "       <matplotlib.axes._subplots.AxesSubplot object at 0x1160c4860>,\n",
       "       <matplotlib.axes._subplots.AxesSubplot object at 0x11610b908>,\n",
       "       <matplotlib.axes._subplots.AxesSubplot object at 0x11614b390>,\n",
       "       <matplotlib.axes._subplots.AxesSubplot object at 0x116195710>,\n",
       "       <matplotlib.axes._subplots.AxesSubplot object at 0x1161dc7b8>,\n",
       "       <matplotlib.axes._subplots.AxesSubplot object at 0x11621e080>,\n",
       "       <matplotlib.axes._subplots.AxesSubplot object at 0x116267240>,\n",
       "       <matplotlib.axes._subplots.AxesSubplot object at 0x11629ccf8>,\n",
       "       <matplotlib.axes._subplots.AxesSubplot object at 0x1162e5da0>,\n",
       "       <matplotlib.axes._subplots.AxesSubplot object at 0x116307278>,\n",
       "       <matplotlib.axes._subplots.AxesSubplot object at 0x11636eac8>,\n",
       "       <matplotlib.axes._subplots.AxesSubplot object at 0x1163b6b70>,\n",
       "       <matplotlib.axes._subplots.AxesSubplot object at 0x1163f2cf8>,\n",
       "       <matplotlib.axes._subplots.AxesSubplot object at 0x11643ada0>,\n",
       "       <matplotlib.axes._subplots.AxesSubplot object at 0x116476828>,\n",
       "       <matplotlib.axes._subplots.AxesSubplot object at 0x1164c2ba8>], dtype=object)"
      ]
     },
     "execution_count": 73,
     "metadata": {},
     "output_type": "execute_result"
    },
    {
     "data": {
      "image/png": "[encoded data removed]",
      "text/plain": [
       "<matplotlib.figure.Figure at 0x114d20f28>"
      ]
     },
     "metadata": {},
     "output_type": "display_data"
    },
    {
     "name": "stdout",
     "output_type": "stream",
     "text": [
      "time: 5.03 s\n"
     ]
    }
   ],
   "source": [
    "behav_resampled.plot(subplots=True, figsize = (10, 12))"
   ]
  },
  {
   "cell_type": "markdown",
   "metadata": {},
   "source": [
    "Or you can also plot a subset of the columns:"
   ]
  },
  {
   "cell_type": "code",
   "execution_count": 75,
   "metadata": {
    "collapsed": false,
    "scrolled": false
   },
   "outputs": [
    {
     "data": {
      "text/plain": [
       "array([<matplotlib.axes._subplots.AxesSubplot object at 0x11671a6a0>,\n",
       "       <matplotlib.axes._subplots.AxesSubplot object at 0x115fd7470>,\n",
       "       <matplotlib.axes._subplots.AxesSubplot object at 0x11cf8be48>], dtype=object)"
      ]
     },
     "execution_count": 75,
     "metadata": {},
     "output_type": "execute_result"
    },
    {
     "data": {
      "image/png": "[encoded data removed]",
      "text/plain": [
       "<matplotlib.figure.Figure at 0x10432a7f0>"
      ]
     },
     "metadata": {},
     "output_type": "display_data"
    },
    {
     "name": "stdout",
     "output_type": "stream",
     "text": [
      "time: 569 ms\n"
     ]
    }
   ],
   "source": [
    "behav_resampled[['speed', 'angularspeed', 'bias']].plot(subplots = True, figsize = (10,8))"
   ]
  },
  {
   "cell_type": "markdown",
   "metadata": {},
   "source": [
    "But notice we have been working with the ungrouped dataframe, can we do this with our grouped dataframe?"
   ]
  },
  {
   "cell_type": "code",
   "execution_count": 76,
   "metadata": {
    "collapsed": false
   },
   "outputs": [
    {
     "data": {
      "text/html": [
       "<div>\n",
       "<table border=\"1\" class=\"dataframe\">\n",
       "  <thead>\n",
       "    <tr style=\"text-align: right;\">\n",
       "      <th></th>\n",
       "      <th></th>\n",
       "      <th>ID</th>\n",
       "      <th>angularspeed</th>\n",
       "      <th>area</th>\n",
       "      <th>aspect</th>\n",
       "      <th>bias</th>\n",
       "      <th>crab</th>\n",
       "      <th>curve</th>\n",
       "      <th>date</th>\n",
       "      <th>dir</th>\n",
       "      <th>frame</th>\n",
       "      <th>...</th>\n",
       "      <th>orient</th>\n",
       "      <th>pathlen</th>\n",
       "      <th>persistance</th>\n",
       "      <th>relaspect</th>\n",
       "      <th>rellength</th>\n",
       "      <th>relwidth</th>\n",
       "      <th>speed</th>\n",
       "      <th>vel_x</th>\n",
       "      <th>vel_y</th>\n",
       "      <th>width</th>\n",
       "    </tr>\n",
       "    <tr>\n",
       "      <th>strain</th>\n",
       "      <th></th>\n",
       "      <th></th>\n",
       "      <th></th>\n",
       "      <th></th>\n",
       "      <th></th>\n",
       "      <th></th>\n",
       "      <th></th>\n",
       "      <th></th>\n",
       "      <th></th>\n",
       "      <th></th>\n",
       "      <th></th>\n",
       "      <th></th>\n",
       "      <th></th>\n",
       "      <th></th>\n",
       "      <th></th>\n",
       "      <th></th>\n",
       "      <th></th>\n",
       "      <th></th>\n",
       "      <th></th>\n",
       "      <th></th>\n",
       "      <th></th>\n",
       "      <th></th>\n",
       "    </tr>\n",
       "  </thead>\n",
       "  <tbody>\n",
       "    <tr>\n",
       "      <th rowspan=\"2\" valign=\"top\">mutant_1</th>\n",
       "      <th>1970-01-01 00:00:10</th>\n",
       "      <td>14.166029</td>\n",
       "      <td>5.341250</td>\n",
       "      <td>0.084776</td>\n",
       "      <td>0.213143</td>\n",
       "      <td>0.944940</td>\n",
       "      <td>0.010161</td>\n",
       "      <td>25.515777</td>\n",
       "      <td>20141118</td>\n",
       "      <td>0.000083</td>\n",
       "      <td>62.651573</td>\n",
       "      <td>...</td>\n",
       "      <td>57.650553</td>\n",
       "      <td>0.386367</td>\n",
       "      <td>162.409864</td>\n",
       "      <td>0.893754</td>\n",
       "      <td>1.029213</td>\n",
       "      <td>0.961974</td>\n",
       "      <td>0.163496</td>\n",
       "      <td>-0.008042</td>\n",
       "      <td>-0.023233</td>\n",
       "      <td>0.167119</td>\n",
       "    </tr>\n",
       "    <tr>\n",
       "      <th>1970-01-01 00:00:20</th>\n",
       "      <td>15.551754</td>\n",
       "      <td>5.557723</td>\n",
       "      <td>0.085505</td>\n",
       "      <td>0.218023</td>\n",
       "      <td>0.887064</td>\n",
       "      <td>0.010114</td>\n",
       "      <td>26.195024</td>\n",
       "      <td>20141118</td>\n",
       "      <td>0.002584</td>\n",
       "      <td>248.706677</td>\n",
       "      <td>...</td>\n",
       "      <td>50.283069</td>\n",
       "      <td>1.433472</td>\n",
       "      <td>163.010681</td>\n",
       "      <td>0.907928</td>\n",
       "      <td>1.021623</td>\n",
       "      <td>0.970967</td>\n",
       "      <td>0.155818</td>\n",
       "      <td>0.002565</td>\n",
       "      <td>-0.014216</td>\n",
       "      <td>0.169132</td>\n",
       "    </tr>\n",
       "    <tr>\n",
       "      <th>...</th>\n",
       "      <th>...</th>\n",
       "      <td>...</td>\n",
       "      <td>...</td>\n",
       "      <td>...</td>\n",
       "      <td>...</td>\n",
       "      <td>...</td>\n",
       "      <td>...</td>\n",
       "      <td>...</td>\n",
       "      <td>...</td>\n",
       "      <td>...</td>\n",
       "      <td>...</td>\n",
       "      <td>...</td>\n",
       "      <td>...</td>\n",
       "      <td>...</td>\n",
       "      <td>...</td>\n",
       "      <td>...</td>\n",
       "      <td>...</td>\n",
       "      <td>...</td>\n",
       "      <td>...</td>\n",
       "      <td>...</td>\n",
       "      <td>...</td>\n",
       "      <td>...</td>\n",
       "    </tr>\n",
       "    <tr>\n",
       "      <th rowspan=\"2\" valign=\"top\">wild-type</th>\n",
       "      <th>1970-01-01 00:03:50</th>\n",
       "      <td>288.899770</td>\n",
       "      <td>5.980102</td>\n",
       "      <td>0.098288</td>\n",
       "      <td>0.248843</td>\n",
       "      <td>0.937489</td>\n",
       "      <td>0.008730</td>\n",
       "      <td>27.963539</td>\n",
       "      <td>20141118</td>\n",
       "      <td>0.001735</td>\n",
       "      <td>5453.795268</td>\n",
       "      <td>...</td>\n",
       "      <td>8.020835</td>\n",
       "      <td>7.559928</td>\n",
       "      <td>117.936149</td>\n",
       "      <td>0.942490</td>\n",
       "      <td>1.035555</td>\n",
       "      <td>0.994018</td>\n",
       "      <td>0.125332</td>\n",
       "      <td>0.013883</td>\n",
       "      <td>0.025775</td>\n",
       "      <td>0.200221</td>\n",
       "    </tr>\n",
       "    <tr>\n",
       "      <th>1970-01-01 00:04:00</th>\n",
       "      <td>287.499373</td>\n",
       "      <td>5.582613</td>\n",
       "      <td>0.098004</td>\n",
       "      <td>0.246534</td>\n",
       "      <td>0.875750</td>\n",
       "      <td>0.008100</td>\n",
       "      <td>27.132316</td>\n",
       "      <td>20141118</td>\n",
       "      <td>0.001426</td>\n",
       "      <td>5699.430874</td>\n",
       "      <td>...</td>\n",
       "      <td>-5.885441</td>\n",
       "      <td>9.190967</td>\n",
       "      <td>119.019323</td>\n",
       "      <td>0.942170</td>\n",
       "      <td>1.026389</td>\n",
       "      <td>0.982084</td>\n",
       "      <td>0.120613</td>\n",
       "      <td>0.014010</td>\n",
       "      <td>0.022929</td>\n",
       "      <td>0.197696</td>\n",
       "    </tr>\n",
       "  </tbody>\n",
       "</table>\n",
       "<p>48 rows × 26 columns</p>\n",
       "</div>"
      ],
      "text/plain": [
       "                                       ID  angularspeed      area    aspect  \\\n",
       "strain                                                                        \n",
       "mutant_1  1970-01-01 00:00:10   14.166029      5.341250  0.084776  0.213143   \n",
       "          1970-01-01 00:00:20   15.551754      5.557723  0.085505  0.218023   \n",
       "...                                   ...           ...       ...       ...   \n",
       "wild-type 1970-01-01 00:03:50  288.899770      5.980102  0.098288  0.248843   \n",
       "          1970-01-01 00:04:00  287.499373      5.582613  0.098004  0.246534   \n",
       "\n",
       "                                   bias      crab      curve      date  \\\n",
       "strain                                                                   \n",
       "mutant_1  1970-01-01 00:00:10  0.944940  0.010161  25.515777  20141118   \n",
       "          1970-01-01 00:00:20  0.887064  0.010114  26.195024  20141118   \n",
       "...                                 ...       ...        ...       ...   \n",
       "wild-type 1970-01-01 00:03:50  0.937489  0.008730  27.963539  20141118   \n",
       "          1970-01-01 00:04:00  0.875750  0.008100  27.132316  20141118   \n",
       "\n",
       "                                    dir        frame    ...        orient  \\\n",
       "strain                                                  ...                 \n",
       "mutant_1  1970-01-01 00:00:10  0.000083    62.651573    ...     57.650553   \n",
       "          1970-01-01 00:00:20  0.002584   248.706677    ...     50.283069   \n",
       "...                                 ...          ...    ...           ...   \n",
       "wild-type 1970-01-01 00:03:50  0.001735  5453.795268    ...      8.020835   \n",
       "          1970-01-01 00:04:00  0.001426  5699.430874    ...     -5.885441   \n",
       "\n",
       "                                pathlen  persistance  relaspect  rellength  \\\n",
       "strain                                                                       \n",
       "mutant_1  1970-01-01 00:00:10  0.386367   162.409864   0.893754   1.029213   \n",
       "          1970-01-01 00:00:20  1.433472   163.010681   0.907928   1.021623   \n",
       "...                                 ...          ...        ...        ...   \n",
       "wild-type 1970-01-01 00:03:50  7.559928   117.936149   0.942490   1.035555   \n",
       "          1970-01-01 00:04:00  9.190967   119.019323   0.942170   1.026389   \n",
       "\n",
       "                               relwidth     speed     vel_x     vel_y  \\\n",
       "strain                                                                  \n",
       "mutant_1  1970-01-01 00:00:10  0.961974  0.163496 -0.008042 -0.023233   \n",
       "          1970-01-01 00:00:20  0.970967  0.155818  0.002565 -0.014216   \n",
       "...                                 ...       ...       ...       ...   \n",
       "wild-type 1970-01-01 00:03:50  0.994018  0.125332  0.013883  0.025775   \n",
       "          1970-01-01 00:04:00  0.982084  0.120613  0.014010  0.022929   \n",
       "\n",
       "                                  width  \n",
       "strain                                   \n",
       "mutant_1  1970-01-01 00:00:10  0.167119  \n",
       "          1970-01-01 00:00:20  0.169132  \n",
       "...                                 ...  \n",
       "wild-type 1970-01-01 00:03:50  0.200221  \n",
       "          1970-01-01 00:04:00  0.197696  \n",
       "\n",
       "[48 rows x 26 columns]"
      ]
     },
     "execution_count": 76,
     "metadata": {},
     "output_type": "execute_result"
    },
    {
     "name": "stdout",
     "output_type": "stream",
     "text": [
      "time: 45.7 ms\n"
     ]
    }
   ],
   "source": [
    "resampled_groups"
   ]
  },
  {
   "cell_type": "code",
   "execution_count": 77,
   "metadata": {
    "collapsed": false
   },
   "outputs": [
    {
     "data": {
      "text/plain": [
       "<matplotlib.axes._subplots.AxesSubplot at 0x11a444588>"
      ]
     },
     "execution_count": 77,
     "metadata": {},
     "output_type": "execute_result"
    },
    {
     "data": {
      "image/png": "[encoded data removed]",
      "text/plain": [
       "<matplotlib.figure.Figure at 0x114d42a58>"
      ]
     },
     "metadata": {},
     "output_type": "display_data"
    },
    {
     "name": "stdout",
     "output_type": "stream",
     "text": [
      "time: 195 ms\n"
     ]
    }
   ],
   "source": [
    "resampled_groups['angularspeed'].plot()"
   ]
  },
  {
   "cell_type": "markdown",
   "metadata": {},
   "source": [
    "That doesn't look right... its plotting them on the same plot, but one after another and they are the same colour...\n",
    "\n",
    "To plot a grouped data frame you need to loop over the groupby object and then resample and plot each group within the loop:"
   ]
  },
  {
   "cell_type": "code",
   "execution_count": 136,
   "metadata": {
    "collapsed": false
   },
   "outputs": [
    {
     "data": {
      "image/png": "[encoded data removed]",
      "text/plain": [
       "<matplotlib.figure.Figure at 0x115ce2ef0>"
      ]
     },
     "metadata": {},
     "output_type": "display_data"
    },
    {
     "name": "stdout",
     "output_type": "stream",
     "text": [
      "time: 583 ms\n"
     ]
    }
   ],
   "source": [
    "## loop over grouby object, and resample and plot each\n",
    "for groups in grouped_behav:\n",
    "    groups[1].resample('10s', how=('mean'))['angularspeed'].plot()    "
   ]
  },
  {
   "cell_type": "markdown",
   "metadata": {
    "slideshow": {
     "slide_type": "-"
    }
   },
   "source": [
    "## Summary"
   ]
  },
  {
   "cell_type": "markdown",
   "metadata": {},
   "source": [
    "Pandas is a extremely useful and efficient tool for scientists, or anyone who needs to wrangle, analyze and visualize data!\n",
    "\n",
    "#### Pandas is particularly attractive to scientists with minimal programming experience because:\n",
    "* Strong, welcoming and growing community\n",
    "* It is readable\n",
    "* Idiom matches intuition"
   ]
  },
  {
   "cell_type": "markdown",
   "metadata": {},
   "source": [
    "To learn more about Pandas see:\n",
    "* [Pandas Documentation](http://pandas.pydata.org/)\n",
    "* ipython notebook [tutorial](http://nsoontie.github.io/2015-03-05-ubc/novice/python/Pandas-Lesson.html) by Nancy Soontiens (Software Carpentry)\n",
    "* Video [tutorial](https://www.youtube.com/watch?v=0CFFTJUZ2dc&list=PLYx7XA2nY5Gcpabmu61kKcToLz0FapmHu&index=12) from SciPy 2015 by Jonathan Rocher \n",
    "* [History of Pandas](https://www.youtube.com/watch?v=kHdkFyGCxiY) by Wes McKinney"
   ]
  }
 ],
 "metadata": {
  "kernelspec": {
   "display_name": "Python 3",
   "language": "python",
   "name": "python3"
  },
  "language_info": {
   "codemirror_mode": {
    "name": "ipython",
    "version": 3
   },
   "file_extension": ".py",
   "mimetype": "text/x-python",
   "name": "python",
   "nbconvert_exporter": "python",
   "pygments_lexer": "ipython3",
   "version": "3.4.3"
  }
 },
 "nbformat": 4,
 "nbformat_minor": 0
}
